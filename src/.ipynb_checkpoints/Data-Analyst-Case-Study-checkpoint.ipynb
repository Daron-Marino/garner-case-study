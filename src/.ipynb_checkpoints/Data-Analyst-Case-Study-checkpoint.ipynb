{
 "cells": [
  {
   "cell_type": "markdown",
   "metadata": {},
   "source": [
    "## Imports"
   ]
  },
  {
   "cell_type": "code",
   "execution_count": 2,
   "metadata": {},
   "outputs": [],
   "source": [
    "# Import the necessary libraries. You can use pip to install these packages if you do not already have them\n",
    "\n",
    "import sqlite3\n",
    "import pandas as pd\n",
    "import numpy as np\n",
    "\n",
    "import matplotlib.pyplot as plt\n",
    "import seaborn as sns\n",
    "%matplotlib inline"
   ]
  },
  {
   "cell_type": "code",
   "execution_count": 3,
   "metadata": {},
   "outputs": [],
   "source": [
    "# Create a connection to the database\n",
    "\n",
    "path_name = \"engagement.db\"\n",
    "conn = sqlite3.connect(path_name)"
   ]
  },
  {
   "cell_type": "code",
   "execution_count": 4,
   "metadata": {},
   "outputs": [],
   "source": [
    "# Functions to help you explore the engagement data, see the examples below\n",
    "\n",
    "sql = lambda query: pd.read_sql_query(query, conn)\n",
    "sql_to_clipboard = lambda query: sql(query).to_clipboard(index=False)"
   ]
  },
  {
   "cell_type": "code",
   "execution_count": 5,
   "metadata": {
    "scrolled": true
   },
   "outputs": [
    {
     "data": {
      "text/html": [
       "<div>\n",
       "<style scoped>\n",
       "    .dataframe tbody tr th:only-of-type {\n",
       "        vertical-align: middle;\n",
       "    }\n",
       "\n",
       "    .dataframe tbody tr th {\n",
       "        vertical-align: top;\n",
       "    }\n",
       "\n",
       "    .dataframe thead th {\n",
       "        text-align: right;\n",
       "    }\n",
       "</style>\n",
       "<table border=\"1\" class=\"dataframe\">\n",
       "  <thead>\n",
       "    <tr style=\"text-align: right;\">\n",
       "      <th></th>\n",
       "      <th>eligibility_id</th>\n",
       "      <th>benefits_start_date</th>\n",
       "      <th>date_of_birth</th>\n",
       "      <th>sex</th>\n",
       "      <th>family_status</th>\n",
       "      <th>client</th>\n",
       "    </tr>\n",
       "  </thead>\n",
       "  <tbody>\n",
       "    <tr>\n",
       "      <th>0</th>\n",
       "      <td>799710</td>\n",
       "      <td>2019-01-01</td>\n",
       "      <td>1969-09-11</td>\n",
       "      <td>M</td>\n",
       "      <td>1</td>\n",
       "      <td>Client A</td>\n",
       "    </tr>\n",
       "    <tr>\n",
       "      <th>1</th>\n",
       "      <td>606621</td>\n",
       "      <td>2019-01-01</td>\n",
       "      <td>1977-11-12</td>\n",
       "      <td>M</td>\n",
       "      <td>1</td>\n",
       "      <td>Client A</td>\n",
       "    </tr>\n",
       "    <tr>\n",
       "      <th>2</th>\n",
       "      <td>724689</td>\n",
       "      <td>2019-01-01</td>\n",
       "      <td>1974-10-17</td>\n",
       "      <td>M</td>\n",
       "      <td>0</td>\n",
       "      <td>Client A</td>\n",
       "    </tr>\n",
       "    <tr>\n",
       "      <th>3</th>\n",
       "      <td>138360</td>\n",
       "      <td>2019-01-01</td>\n",
       "      <td>1967-07-24</td>\n",
       "      <td>M</td>\n",
       "      <td>0</td>\n",
       "      <td>Client A</td>\n",
       "    </tr>\n",
       "    <tr>\n",
       "      <th>4</th>\n",
       "      <td>666621</td>\n",
       "      <td>2019-01-01</td>\n",
       "      <td>1973-12-10</td>\n",
       "      <td>M</td>\n",
       "      <td>0</td>\n",
       "      <td>Client A</td>\n",
       "    </tr>\n",
       "    <tr>\n",
       "      <th>5</th>\n",
       "      <td>871909</td>\n",
       "      <td>2019-01-01</td>\n",
       "      <td>1974-04-24</td>\n",
       "      <td>M</td>\n",
       "      <td>1</td>\n",
       "      <td>Client A</td>\n",
       "    </tr>\n",
       "    <tr>\n",
       "      <th>6</th>\n",
       "      <td>814046</td>\n",
       "      <td>2019-01-01</td>\n",
       "      <td>1977-03-16</td>\n",
       "      <td>M</td>\n",
       "      <td>1</td>\n",
       "      <td>Client A</td>\n",
       "    </tr>\n",
       "    <tr>\n",
       "      <th>7</th>\n",
       "      <td>723937</td>\n",
       "      <td>2019-01-01</td>\n",
       "      <td>1974-10-17</td>\n",
       "      <td>M</td>\n",
       "      <td>0</td>\n",
       "      <td>Client A</td>\n",
       "    </tr>\n",
       "    <tr>\n",
       "      <th>8</th>\n",
       "      <td>784477</td>\n",
       "      <td>2019-01-01</td>\n",
       "      <td>1969-08-23</td>\n",
       "      <td>M</td>\n",
       "      <td>1</td>\n",
       "      <td>Client A</td>\n",
       "    </tr>\n",
       "    <tr>\n",
       "      <th>9</th>\n",
       "      <td>623545</td>\n",
       "      <td>2019-01-01</td>\n",
       "      <td>1974-12-09</td>\n",
       "      <td>M</td>\n",
       "      <td>1</td>\n",
       "      <td>Client A</td>\n",
       "    </tr>\n",
       "  </tbody>\n",
       "</table>\n",
       "</div>"
      ],
      "text/plain": [
       "  eligibility_id benefits_start_date date_of_birth sex  family_status  \\\n",
       "0         799710          2019-01-01    1969-09-11   M              1   \n",
       "1         606621          2019-01-01    1977-11-12   M              1   \n",
       "2         724689          2019-01-01    1974-10-17   M              0   \n",
       "3         138360          2019-01-01    1967-07-24   M              0   \n",
       "4         666621          2019-01-01    1973-12-10   M              0   \n",
       "5         871909          2019-01-01    1974-04-24   M              1   \n",
       "6         814046          2019-01-01    1977-03-16   M              1   \n",
       "7         723937          2019-01-01    1974-10-17   M              0   \n",
       "8         784477          2019-01-01    1969-08-23   M              1   \n",
       "9         623545          2019-01-01    1974-12-09   M              1   \n",
       "\n",
       "     client  \n",
       "0  Client A  \n",
       "1  Client A  \n",
       "2  Client A  \n",
       "3  Client A  \n",
       "4  Client A  \n",
       "5  Client A  \n",
       "6  Client A  \n",
       "7  Client A  \n",
       "8  Client A  \n",
       "9  Client A  "
      ]
     },
     "execution_count": 5,
     "metadata": {},
     "output_type": "execute_result"
    }
   ],
   "source": [
    "# When you run this cell, you should see 10 rows of eligibility data in a pandas DataFrame\n",
    "\n",
    "sql(\n",
    "\"\"\"\n",
    "    SELECT * FROM eligibility\n",
    "    LIMIT 10;\n",
    "\"\"\"\n",
    ")"
   ]
  },
  {
   "cell_type": "code",
   "execution_count": 6,
   "metadata": {},
   "outputs": [],
   "source": [
    "# When you run this cell, the results of the query are saved to your clipboard so that you can easily\n",
    "# paste the data into Excel\n",
    "\n",
    "# sql_to_clipboard(\n",
    "# \"\"\"\n",
    "#     SELECT * FROM eligibility\n",
    "#     LIMIT 10;\n",
    "# \"\"\"\n",
    "# )"
   ]
  },
  {
   "cell_type": "markdown",
   "metadata": {},
   "source": [
    "## EDA"
   ]
  },
  {
   "cell_type": "code",
   "execution_count": 7,
   "metadata": {},
   "outputs": [
    {
     "name": "stdout",
     "output_type": "stream",
     "text": [
      "eligibility:     COUNT(*)\n",
      "0      2820\n",
      "client_metadata:     COUNT(*)\n",
      "0         6\n",
      "accounts:     COUNT(*)\n",
      "0      1207\n",
      "recommendations:     COUNT(*)\n",
      "0     10680\n",
      "claims:     COUNT(*)\n",
      "0      1322\n"
     ]
    }
   ],
   "source": [
    "# getting an understanding for how large each table is\n",
    "\n",
    "tables = ['eligibility', 'client_metadata', 'accounts',\n",
    "          'recommendations', 'claims']\n",
    "\n",
    "\n",
    "for table in tables:\n",
    "    print(f'{table}: ', sql(f'''\n",
    "        SELECT COUNT(*)\n",
    "        FROM {table}\n",
    "        '''))\n"
   ]
  },
  {
   "cell_type": "markdown",
   "metadata": {},
   "source": [
    "These tables are fairly small in size. I'll easily be able to hold all the data in memory."
   ]
  },
  {
   "cell_type": "markdown",
   "metadata": {},
   "source": [
    "### Creating separate pandas Dfs for each table"
   ]
  },
  {
   "cell_type": "code",
   "execution_count": 10,
   "metadata": {},
   "outputs": [],
   "source": [
    "eligibility = sql('''SELECT * FROM eligibility''')\n",
    "client_metadata = sql('''SELECT * FROM client_metadata''')\n",
    "accounts = sql('''SELECT * FROM accounts''')\n",
    "recommendations = sql('''SELECT * FROM recommendations''')\n",
    "claims = sql('''SELECT * FROM claims''')\n",
    "\n",
    "\n",
    "# list of dataframes\n",
    "dfs = [eligibility, client_metadata, accounts,\n",
    "       recommendations, claims]\n",
    "\n",
    "\n",
    "# understanding each table via pandas\n",
    "# for table, df in zip(tables, dfs):\n",
    "#     print(table), df.info()"
   ]
  },
  {
   "cell_type": "markdown",
   "metadata": {},
   "source": [
    "An initial observation is that none of the tables contain missing values, so imputation won't be necessary at any point"
   ]
  },
  {
   "cell_type": "code",
   "execution_count": 11,
   "metadata": {},
   "outputs": [
    {
     "data": {
      "image/png": "[encoded data removed]",
      "text/plain": [
       "<Figure size 576x864 with 1 Axes>"
      ]
     },
     "metadata": {},
     "output_type": "display_data"
    }
   ],
   "source": [
    "# understanding HR engagement\n",
    "fig, ax = plt.subplots(figsize=(8,12), facecolor='w')\n",
    "\n",
    "def label_function(val):\n",
    "    return f'{val/100 * len(client_metadata):.0f}\\n{val:.0f}%'\n",
    "\n",
    "client_metadata.groupby('hr_engagement').size().plot(kind='pie',\n",
    "                                        autopct=label_function, ax=ax)\n",
    "\n",
    "ax.set_title('HR Engagement Across Client')\n",
    "ax.set_ylabel('');"
   ]
  },
  {
   "cell_type": "markdown",
   "metadata": {},
   "source": [
    "### Creating larger `recommendations` and `claims` DFs by merging with other tables"
   ]
  },
  {
   "cell_type": "code",
   "execution_count": 14,
   "metadata": {},
   "outputs": [
    {
     "name": "stdout",
     "output_type": "stream",
     "text": [
      "<class 'pandas.core.frame.DataFrame'>\n",
      "Int64Index: 10680 entries, 0 to 10679\n",
      "Data columns (total 12 columns):\n",
      " #   Column               Non-Null Count  Dtype \n",
      "---  ------               --------------  ----- \n",
      " 0   account_id           10680 non-null  object\n",
      " 1   recommendation_id    10680 non-null  object\n",
      " 2   date                 10680 non-null  object\n",
      " 3   specialty            10680 non-null  object\n",
      " 4   provider_id          10680 non-null  object\n",
      " 5   eligibility_id       10680 non-null  object\n",
      " 6   client_x             10680 non-null  object\n",
      " 7   benefits_start_date  10680 non-null  object\n",
      " 8   date_of_birth        10680 non-null  object\n",
      " 9   sex                  10680 non-null  object\n",
      " 10  family_status        10680 non-null  int64 \n",
      " 11  client_y             10680 non-null  object\n",
      "dtypes: int64(1), object(11)\n",
      "memory usage: 1.1+ MB\n"
     ]
    }
   ],
   "source": [
    "recommendations_df = recommendations\\\n",
    "    .merge(accounts, on='account_id')\\\n",
    "    .merge(eligibility, on='eligibility_id')\n",
    "\n",
    "recommendations_df.info()"
   ]
  },
  {
   "cell_type": "code",
   "execution_count": 15,
   "metadata": {},
   "outputs": [
    {
     "data": {
      "text/plain": [
       "True"
      ]
     },
     "execution_count": 15,
     "metadata": {},
     "output_type": "execute_result"
    }
   ],
   "source": [
    "'''sanity check to make sure both client_x \n",
    "and client_y columns are the same then dropping client_x and\n",
    "renaming client y'''\n",
    "\n",
    "recommendations_df['client_x'].equals(recommendations_df['client_y'])"
   ]
  },
  {
   "cell_type": "code",
   "execution_count": 16,
   "metadata": {},
   "outputs": [
    {
     "data": {
      "text/html": [
       "<div>\n",
       "<style scoped>\n",
       "    .dataframe tbody tr th:only-of-type {\n",
       "        vertical-align: middle;\n",
       "    }\n",
       "\n",
       "    .dataframe tbody tr th {\n",
       "        vertical-align: top;\n",
       "    }\n",
       "\n",
       "    .dataframe thead th {\n",
       "        text-align: right;\n",
       "    }\n",
       "</style>\n",
       "<table border=\"1\" class=\"dataframe\">\n",
       "  <thead>\n",
       "    <tr style=\"text-align: right;\">\n",
       "      <th></th>\n",
       "      <th>account_id</th>\n",
       "      <th>recommendation_id</th>\n",
       "      <th>date</th>\n",
       "      <th>specialty</th>\n",
       "      <th>provider_id</th>\n",
       "      <th>eligibility_id</th>\n",
       "      <th>benefits_start_date</th>\n",
       "      <th>date_of_birth</th>\n",
       "      <th>sex</th>\n",
       "      <th>family_status</th>\n",
       "      <th>client</th>\n",
       "      <th>income_range</th>\n",
       "      <th>hr_engagement</th>\n",
       "    </tr>\n",
       "  </thead>\n",
       "  <tbody>\n",
       "    <tr>\n",
       "      <th>0</th>\n",
       "      <td>403925840</td>\n",
       "      <td>6578968814</td>\n",
       "      <td>2021-02-28</td>\n",
       "      <td>Psychiatrist</td>\n",
       "      <td>98690718</td>\n",
       "      <td>724689</td>\n",
       "      <td>2019-01-01</td>\n",
       "      <td>1974-10-17</td>\n",
       "      <td>M</td>\n",
       "      <td>0</td>\n",
       "      <td>Client A</td>\n",
       "      <td>$20,000 - $44,999</td>\n",
       "      <td>Low</td>\n",
       "    </tr>\n",
       "    <tr>\n",
       "      <th>1</th>\n",
       "      <td>403925840</td>\n",
       "      <td>5280596652</td>\n",
       "      <td>2021-02-28</td>\n",
       "      <td>Psychiatrist</td>\n",
       "      <td>96885602</td>\n",
       "      <td>724689</td>\n",
       "      <td>2019-01-01</td>\n",
       "      <td>1974-10-17</td>\n",
       "      <td>M</td>\n",
       "      <td>0</td>\n",
       "      <td>Client A</td>\n",
       "      <td>$20,000 - $44,999</td>\n",
       "      <td>Low</td>\n",
       "    </tr>\n",
       "    <tr>\n",
       "      <th>2</th>\n",
       "      <td>403925840</td>\n",
       "      <td>9524543024</td>\n",
       "      <td>2021-02-28</td>\n",
       "      <td>Psychiatrist</td>\n",
       "      <td>57088025</td>\n",
       "      <td>724689</td>\n",
       "      <td>2019-01-01</td>\n",
       "      <td>1974-10-17</td>\n",
       "      <td>M</td>\n",
       "      <td>0</td>\n",
       "      <td>Client A</td>\n",
       "      <td>$20,000 - $44,999</td>\n",
       "      <td>Low</td>\n",
       "    </tr>\n",
       "    <tr>\n",
       "      <th>3</th>\n",
       "      <td>403925840</td>\n",
       "      <td>7424617339</td>\n",
       "      <td>2021-02-28</td>\n",
       "      <td>Psychiatrist</td>\n",
       "      <td>55082760</td>\n",
       "      <td>724689</td>\n",
       "      <td>2019-01-01</td>\n",
       "      <td>1974-10-17</td>\n",
       "      <td>M</td>\n",
       "      <td>0</td>\n",
       "      <td>Client A</td>\n",
       "      <td>$20,000 - $44,999</td>\n",
       "      <td>Low</td>\n",
       "    </tr>\n",
       "    <tr>\n",
       "      <th>4</th>\n",
       "      <td>403925840</td>\n",
       "      <td>7983655531</td>\n",
       "      <td>2021-02-28</td>\n",
       "      <td>Psychiatrist</td>\n",
       "      <td>01568508</td>\n",
       "      <td>724689</td>\n",
       "      <td>2019-01-01</td>\n",
       "      <td>1974-10-17</td>\n",
       "      <td>M</td>\n",
       "      <td>0</td>\n",
       "      <td>Client A</td>\n",
       "      <td>$20,000 - $44,999</td>\n",
       "      <td>Low</td>\n",
       "    </tr>\n",
       "  </tbody>\n",
       "</table>\n",
       "</div>"
      ],
      "text/plain": [
       "  account_id recommendation_id        date     specialty provider_id  \\\n",
       "0  403925840        6578968814  2021-02-28  Psychiatrist    98690718   \n",
       "1  403925840        5280596652  2021-02-28  Psychiatrist    96885602   \n",
       "2  403925840        9524543024  2021-02-28  Psychiatrist    57088025   \n",
       "3  403925840        7424617339  2021-02-28  Psychiatrist    55082760   \n",
       "4  403925840        7983655531  2021-02-28  Psychiatrist    01568508   \n",
       "\n",
       "  eligibility_id benefits_start_date date_of_birth sex  family_status  \\\n",
       "0         724689          2019-01-01    1974-10-17   M              0   \n",
       "1         724689          2019-01-01    1974-10-17   M              0   \n",
       "2         724689          2019-01-01    1974-10-17   M              0   \n",
       "3         724689          2019-01-01    1974-10-17   M              0   \n",
       "4         724689          2019-01-01    1974-10-17   M              0   \n",
       "\n",
       "     client       income_range hr_engagement  \n",
       "0  Client A  $20,000 - $44,999           Low  \n",
       "1  Client A  $20,000 - $44,999           Low  \n",
       "2  Client A  $20,000 - $44,999           Low  \n",
       "3  Client A  $20,000 - $44,999           Low  \n",
       "4  Client A  $20,000 - $44,999           Low  "
      ]
     },
     "execution_count": 16,
     "metadata": {},
     "output_type": "execute_result"
    }
   ],
   "source": [
    "recommendations_df.drop('client_x', axis=1, inplace=True)\n",
    "recommendations_df.rename(columns={'client_y':'client'}, inplace=True)\n",
    "\n",
    "\n",
    "# merge with client_metadata\n",
    "recommendations_df = recommendations_df.merge(client_metadata, on='client')\n",
    "\n",
    "recommendations_df.head()"
   ]
  },
  {
   "cell_type": "code",
   "execution_count": 17,
   "metadata": {},
   "outputs": [],
   "source": [
    "claims_df = claims.merge(accounts, on='account_id')\\\n",
    "                  .merge(eligibility, on='eligibility_id')\n",
    "\n",
    "# dropping one client column and renaming the other\n",
    "claims_df.drop('client_x', axis=1, inplace=True)\n",
    "claims_df.rename(columns={'client_y':'client'}, inplace=True)\n",
    "\n",
    "# merging with client_metadata and grabbing specialty from recommendations\n",
    "provider_id_and_specialty = recommendations[['specialty', 'provider_id']]\n",
    "claims_df = claims_df.merge(client_metadata, on='client')\\\n",
    "                     .merge(provider_id_and_specialty, on='provider_id')"
   ]
  },
  {
   "cell_type": "code",
   "execution_count": 20,
   "metadata": {},
   "outputs": [],
   "source": [
    "# saving the separate dataframes to .csv files for analysis in Tableau\n",
    "\n",
    "df_names = ['recommendations_df', 'claims_df']\n",
    "dfs = [recommendations_df, claims_df]\n",
    "\n",
    "# for df, df_name in zip(dfs, df_names):\n",
    "#     df.to_csv(f'{df_name}.csv', index=False)"
   ]
  },
  {
   "cell_type": "code",
   "execution_count": 21,
   "metadata": {},
   "outputs": [
    {
     "data": {
      "image/png": "[encoded data removed]",
      "text/plain": [
       "<Figure size 864x576 with 1 Axes>"
      ]
     },
     "metadata": {
      "needs_background": "light"
     },
     "output_type": "display_data"
    }
   ],
   "source": [
    "# histogram of claim amounts\n",
    "\n",
    "fig, ax = plt.subplots(figsize=(12,8))\n",
    "ax.hist(claims_df['amount'], bins=50, log=True)\n",
    "ax.set_title('Distribution of Claim Amounts (Log Scale)')\n",
    "ax.set_xlabel('Amount')\n",
    "ax.set_ylabel('Count');"
   ]
  },
  {
   "cell_type": "markdown",
   "metadata": {},
   "source": [
    "A log scale is needed for the values because they are highly positively skewed. Without log transforming, claims on the higher end ($80,000) would not be visible"
   ]
  },
  {
   "cell_type": "code",
   "execution_count": 22,
   "metadata": {},
   "outputs": [
    {
     "data": {
      "text/plain": [
       "count     3756.000000\n",
       "mean      1700.694089\n",
       "std       9939.506993\n",
       "min         15.000000\n",
       "25%        191.750000\n",
       "50%        211.000000\n",
       "75%        254.000000\n",
       "max      94374.000000\n",
       "Name: amount, dtype: float64"
      ]
     },
     "execution_count": 22,
     "metadata": {},
     "output_type": "execute_result"
    }
   ],
   "source": [
    "# very positively skewed - see mean vs. median diferences\n",
    "\n",
    "claims_df['amount'].describe()"
   ]
  },
  {
   "cell_type": "markdown",
   "metadata": {
    "scrolled": true
   },
   "source": [
    "### Examining differences b/w eligible employees and those who have signed up for Garner"
   ]
  },
  {
   "cell_type": "code",
   "execution_count": 23,
   "metadata": {},
   "outputs": [
    {
     "name": "stdout",
     "output_type": "stream",
     "text": [
      "There are 2820 eligible employees\n",
      "and there are 1207 actual users\n",
      "meaning 42.801% of eligible employees signed up\n"
     ]
    }
   ],
   "source": [
    "# examining the differences between eligible employees and employees with accounts\n",
    "eligible_employees = eligibility['eligibility_id'].nunique()\n",
    "num_accounts = accounts['account_id'].nunique()\n",
    "\n",
    "print(f\"\"\"There are {eligible_employees} eligible employees\n",
    "and there are {num_accounts} actual users\n",
    "meaning {round((num_accounts/eligible_employees)*100, 3)}% of eligible employees signed up\"\"\")"
   ]
  },
  {
   "cell_type": "code",
   "execution_count": 24,
   "metadata": {},
   "outputs": [
    {
     "name": "stdout",
     "output_type": "stream",
     "text": [
      "There are 836 individual accounts receiving recommendations\n"
     ]
    }
   ],
   "source": [
    "unique_users = recommendations_df['account_id'].nunique()\n",
    "\n",
    "print(f'There are {unique_users} individual accounts receiving recommendations')"
   ]
  },
  {
   "cell_type": "markdown",
   "metadata": {},
   "source": [
    "### Recommendations converting to claims"
   ]
  },
  {
   "cell_type": "code",
   "execution_count": 26,
   "metadata": {},
   "outputs": [
    {
     "name": "stdout",
     "output_type": "stream",
     "text": [
      "There are 568 individual accounts submitting claims\n",
      "There are 836 receiving recommendations\n",
      "and 67.94% of users who are receiving recommendations are also submitting claims\n"
     ]
    }
   ],
   "source": [
    "unique_claims_users = claims_df['account_id'].nunique()\n",
    "unique_recommendation_users = recommendations_df['account_id'].nunique()\n",
    "\n",
    "print(f'''There are {unique_claims_users} individual accounts submitting claims\n",
    "There are {unique_recommendation_users} receiving recommendations\n",
    "and {round((unique_claims_users/unique_recommendation_users)*100,2)}% of users who are receiving recommendations are also submitting claims''')"
   ]
  },
  {
   "cell_type": "code",
   "execution_count": 246,
   "metadata": {},
   "outputs": [],
   "source": [
    "'''\n",
    "Seeing if all the account id values in claims are\n",
    "present in the account id values in recommendations\n",
    "'''\n",
    "\n",
    "claims_ids = claims_df['account_id']\n",
    "recs_ids = recommendations_df['account_id']\n",
    "\n",
    "claims_ids_in_recs = claims_ids.isin(recs_ids)\n",
    "\n",
    "# they are\n",
    "# claims_ids_in_recs.all()\n",
    "\n",
    "# now the reverse\n",
    "# recs_ids_in_claims = recs_ids.isin(claims_ids)\n",
    "\n",
    "# # They are not\n",
    "# recs_ids_in_claims.all()\n"
   ]
  },
  {
   "cell_type": "code",
   "execution_count": 247,
   "metadata": {},
   "outputs": [
    {
     "data": {
      "text/plain": [
       "245"
      ]
     },
     "execution_count": 247,
     "metadata": {},
     "output_type": "execute_result"
    }
   ],
   "source": [
    "not_in_claims = recs_ids[~recs_ids\\\n",
    "                                   .isin(claims_ids)]\n",
    "\n",
    "not_in_claims.nunique()"
   ]
  },
  {
   "cell_type": "markdown",
   "metadata": {},
   "source": [
    "This checks out since there are 836 unique IDs receiving recommendations and only 568 unique IDs submitting claims... meaning:\n",
    "- only ~68% of individuals receiving recommendations are submitting claims"
   ]
  },
  {
   "cell_type": "markdown",
   "metadata": {},
   "source": [
    "### Investigating sex and family status"
   ]
  },
  {
   "cell_type": "code",
   "execution_count": 27,
   "metadata": {},
   "outputs": [
    {
     "data": {
      "text/plain": [
       "0    1495\n",
       "1    1325\n",
       "Name: family_status, dtype: int64"
      ]
     },
     "execution_count": 27,
     "metadata": {},
     "output_type": "execute_result"
    }
   ],
   "source": [
    "eligibility['family_status'].value_counts()"
   ]
  },
  {
   "cell_type": "code",
   "execution_count": 64,
   "metadata": {},
   "outputs": [
    {
     "data": {
      "text/html": [
       "<div>\n",
       "<style scoped>\n",
       "    .dataframe tbody tr th:only-of-type {\n",
       "        vertical-align: middle;\n",
       "    }\n",
       "\n",
       "    .dataframe tbody tr th {\n",
       "        vertical-align: top;\n",
       "    }\n",
       "\n",
       "    .dataframe thead th {\n",
       "        text-align: right;\n",
       "    }\n",
       "</style>\n",
       "<table border=\"1\" class=\"dataframe\">\n",
       "  <thead>\n",
       "    <tr style=\"text-align: right;\">\n",
       "      <th></th>\n",
       "      <th>eligibility_id</th>\n",
       "      <th>account_id</th>\n",
       "      <th>client</th>\n",
       "      <th>sex</th>\n",
       "      <th>family_status</th>\n",
       "    </tr>\n",
       "  </thead>\n",
       "  <tbody>\n",
       "    <tr>\n",
       "      <th>0</th>\n",
       "      <td>724689</td>\n",
       "      <td>403925840</td>\n",
       "      <td>Client A</td>\n",
       "      <td>M</td>\n",
       "      <td>0</td>\n",
       "    </tr>\n",
       "    <tr>\n",
       "      <th>1</th>\n",
       "      <td>871909</td>\n",
       "      <td>706133529</td>\n",
       "      <td>Client A</td>\n",
       "      <td>M</td>\n",
       "      <td>1</td>\n",
       "    </tr>\n",
       "    <tr>\n",
       "      <th>2</th>\n",
       "      <td>623545</td>\n",
       "      <td>832983386</td>\n",
       "      <td>Client A</td>\n",
       "      <td>M</td>\n",
       "      <td>1</td>\n",
       "    </tr>\n",
       "    <tr>\n",
       "      <th>3</th>\n",
       "      <td>646120</td>\n",
       "      <td>443728379</td>\n",
       "      <td>Client A</td>\n",
       "      <td>M</td>\n",
       "      <td>1</td>\n",
       "    </tr>\n",
       "    <tr>\n",
       "      <th>4</th>\n",
       "      <td>563295</td>\n",
       "      <td>802453624</td>\n",
       "      <td>Client A</td>\n",
       "      <td>M</td>\n",
       "      <td>1</td>\n",
       "    </tr>\n",
       "  </tbody>\n",
       "</table>\n",
       "</div>"
      ],
      "text/plain": [
       "  eligibility_id account_id    client sex  family_status\n",
       "0         724689  403925840  Client A   M              0\n",
       "1         871909  706133529  Client A   M              1\n",
       "2         623545  832983386  Client A   M              1\n",
       "3         646120  443728379  Client A   M              1\n",
       "4         563295  802453624  Client A   M              1"
      ]
     },
     "execution_count": 64,
     "metadata": {},
     "output_type": "execute_result"
    }
   ],
   "source": [
    "# separate users dataframe with sex and family status information\n",
    "\n",
    "eligibility_cols = eligibility[['eligibility_id', 'sex', 'family_status']]\n",
    "\n",
    "accounts_with_sex_and_fam_stat = accounts.merge(eligibility_cols, on='eligibility_id')\n",
    "\n",
    "accounts_with_sex_and_fam_stat.head()"
   ]
  },
  {
   "cell_type": "code",
   "execution_count": 65,
   "metadata": {},
   "outputs": [
    {
     "name": "stdout",
     "output_type": "stream",
     "text": [
      "Female users: 707\n",
      "Male users: 500\n"
     ]
    }
   ],
   "source": [
    "female_users = accounts_with_sex_and_fam_stat[accounts_with_sex_and_fam_stat['sex'] == 'F']['account_id'].nunique()\n",
    "male_users = accounts_with_sex_and_fam_stat[accounts_with_sex_and_fam_stat['sex']=='M']['account_id'].nunique()\n",
    "\n",
    "print(f'Female users: {female_users}\\nMale users: {male_users}')"
   ]
  },
  {
   "cell_type": "code",
   "execution_count": 66,
   "metadata": {},
   "outputs": [
    {
     "name": "stdout",
     "output_type": "stream",
     "text": [
      "Family Plan users: 531\n",
      "Individual Plan users: 676\n"
     ]
    }
   ],
   "source": [
    "family_plan_users = accounts_with_sex_and_fam_stat[accounts_with_sex_and_fam_stat['family_status']==1]['account_id'].nunique()\n",
    "individual_plan_users = accounts_with_sex_and_fam_stat[accounts_with_sex_and_fam_stat['family_status']==0]['account_id'].nunique()\n",
    "\n",
    "\n",
    "# family_plan_users = eligibility[eligibility['family_status']==1]['family_status'].count()\n",
    "# individual_plan_users = eligibility[eligibility['family_status']==0]['family_status'].count()\n",
    "\n",
    "print(f'Family Plan users: {family_plan_users}\\nIndividual Plan users: {individual_plan_users}')"
   ]
  },
  {
   "cell_type": "markdown",
   "metadata": {},
   "source": [
    "### Users per client"
   ]
  },
  {
   "cell_type": "code",
   "execution_count": 54,
   "metadata": {},
   "outputs": [
    {
     "name": "stdout",
     "output_type": "stream",
     "text": [
      "Client A: 45\n",
      "Client B: 136\n",
      "Client C: 471\n",
      "Client D: 69\n",
      "Client E: 210\n",
      "Client F: 276\n"
     ]
    }
   ],
   "source": [
    "# comparing users by client\n",
    "client_count = dict()\n",
    "\n",
    "for client in accounts['client'].unique():\n",
    "    client_count[client] = accounts[accounts['client'] == client]['client'].count()\n",
    "\n",
    "    \n",
    "for k, v in client_count.items():\n",
    "    print(f'{k}: {v}')"
   ]
  },
  {
   "cell_type": "code",
   "execution_count": null,
   "metadata": {},
   "outputs": [],
   "source": []
  }
 ],
 "metadata": {
  "kernelspec": {
   "display_name": "Python 3",
   "language": "python",
   "name": "python3"
  },
  "language_info": {
   "codemirror_mode": {
    "name": "ipython",
    "version": 3
   },
   "file_extension": ".py",
   "mimetype": "text/x-python",
   "name": "python",
   "nbconvert_exporter": "python",
   "pygments_lexer": "ipython3",
   "version": "3.7.7"
  }
 },
 "nbformat": 4,
 "nbformat_minor": 5
}
